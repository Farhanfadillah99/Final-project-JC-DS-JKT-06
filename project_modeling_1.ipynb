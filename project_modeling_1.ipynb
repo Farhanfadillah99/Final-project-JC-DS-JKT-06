{
 "cells": [
  {
   "cell_type": "code",
   "execution_count": 2,
   "metadata": {
    "ExecuteTime": {
     "end_time": "2019-11-21T04:45:37.189834Z",
     "start_time": "2019-11-21T04:45:33.246386Z"
    }
   },
   "outputs": [],
   "source": [
    "import pandas as pd\n",
    "import numpy as np\n",
    "import matplotlib.pyplot as plt\n",
    "import seaborn as sns\n",
    "%matplotlib inline"
   ]
  },
  {
   "cell_type": "code",
   "execution_count": 3,
   "metadata": {
    "ExecuteTime": {
     "end_time": "2019-11-21T04:45:37.258287Z",
     "start_time": "2019-11-21T04:45:37.189834Z"
    }
   },
   "outputs": [],
   "source": [
    "df = pd.read_csv('retailMarketingDI.csv')"
   ]
  },
  {
   "cell_type": "code",
   "execution_count": 4,
   "metadata": {
    "ExecuteTime": {
     "end_time": "2019-11-21T04:45:37.421127Z",
     "start_time": "2019-11-21T04:45:37.258287Z"
    }
   },
   "outputs": [
    {
     "data": {
      "text/html": [
       "<div>\n",
       "<style scoped>\n",
       "    .dataframe tbody tr th:only-of-type {\n",
       "        vertical-align: middle;\n",
       "    }\n",
       "\n",
       "    .dataframe tbody tr th {\n",
       "        vertical-align: top;\n",
       "    }\n",
       "\n",
       "    .dataframe thead th {\n",
       "        text-align: right;\n",
       "    }\n",
       "</style>\n",
       "<table border=\"1\" class=\"dataframe\">\n",
       "  <thead>\n",
       "    <tr style=\"text-align: right;\">\n",
       "      <th></th>\n",
       "      <th>Age</th>\n",
       "      <th>Gender</th>\n",
       "      <th>OwnHome</th>\n",
       "      <th>Married</th>\n",
       "      <th>Location</th>\n",
       "      <th>Salary</th>\n",
       "      <th>Children</th>\n",
       "      <th>Catalogs</th>\n",
       "      <th>AmountSpent</th>\n",
       "    </tr>\n",
       "  </thead>\n",
       "  <tbody>\n",
       "    <tr>\n",
       "      <td>0</td>\n",
       "      <td>Old</td>\n",
       "      <td>Female</td>\n",
       "      <td>Own</td>\n",
       "      <td>Single</td>\n",
       "      <td>Far</td>\n",
       "      <td>47500</td>\n",
       "      <td>0</td>\n",
       "      <td>6</td>\n",
       "      <td>755.0</td>\n",
       "    </tr>\n",
       "    <tr>\n",
       "      <td>1</td>\n",
       "      <td>Middle</td>\n",
       "      <td>Male</td>\n",
       "      <td>Rent</td>\n",
       "      <td>Single</td>\n",
       "      <td>Close</td>\n",
       "      <td>63600</td>\n",
       "      <td>0</td>\n",
       "      <td>6</td>\n",
       "      <td>1318.0</td>\n",
       "    </tr>\n",
       "    <tr>\n",
       "      <td>2</td>\n",
       "      <td>Young</td>\n",
       "      <td>Female</td>\n",
       "      <td>Rent</td>\n",
       "      <td>Single</td>\n",
       "      <td>Close</td>\n",
       "      <td>13500</td>\n",
       "      <td>0</td>\n",
       "      <td>18</td>\n",
       "      <td>296.0</td>\n",
       "    </tr>\n",
       "    <tr>\n",
       "      <td>3</td>\n",
       "      <td>Middle</td>\n",
       "      <td>Male</td>\n",
       "      <td>Own</td>\n",
       "      <td>Married</td>\n",
       "      <td>Close</td>\n",
       "      <td>85600</td>\n",
       "      <td>1</td>\n",
       "      <td>18</td>\n",
       "      <td>2436.0</td>\n",
       "    </tr>\n",
       "    <tr>\n",
       "      <td>4</td>\n",
       "      <td>Middle</td>\n",
       "      <td>Female</td>\n",
       "      <td>Own</td>\n",
       "      <td>Single</td>\n",
       "      <td>Close</td>\n",
       "      <td>68400</td>\n",
       "      <td>0</td>\n",
       "      <td>12</td>\n",
       "      <td>1304.0</td>\n",
       "    </tr>\n",
       "  </tbody>\n",
       "</table>\n",
       "</div>"
      ],
      "text/plain": [
       "      Age  Gender OwnHome  Married Location  Salary  Children  Catalogs  \\\n",
       "0     Old  Female     Own   Single      Far   47500         0         6   \n",
       "1  Middle    Male    Rent   Single    Close   63600         0         6   \n",
       "2   Young  Female    Rent   Single    Close   13500         0        18   \n",
       "3  Middle    Male     Own  Married    Close   85600         1        18   \n",
       "4  Middle  Female     Own   Single    Close   68400         0        12   \n",
       "\n",
       "   AmountSpent  \n",
       "0        755.0  \n",
       "1       1318.0  \n",
       "2        296.0  \n",
       "3       2436.0  \n",
       "4       1304.0  "
      ]
     },
     "execution_count": 4,
     "metadata": {},
     "output_type": "execute_result"
    }
   ],
   "source": [
    "df.head()"
   ]
  },
  {
   "cell_type": "code",
   "execution_count": 5,
   "metadata": {
    "ExecuteTime": {
     "end_time": "2019-11-21T04:45:37.474604Z",
     "start_time": "2019-11-21T04:45:37.436752Z"
    }
   },
   "outputs": [
    {
     "name": "stdout",
     "output_type": "stream",
     "text": [
      "<class 'pandas.core.frame.DataFrame'>\n",
      "RangeIndex: 1000 entries, 0 to 999\n",
      "Data columns (total 9 columns):\n",
      "Age            1000 non-null object\n",
      "Gender         1000 non-null object\n",
      "OwnHome        1000 non-null object\n",
      "Married        1000 non-null object\n",
      "Location       1000 non-null object\n",
      "Salary         1000 non-null int64\n",
      "Children       1000 non-null int64\n",
      "Catalogs       1000 non-null int64\n",
      "AmountSpent    994 non-null float64\n",
      "dtypes: float64(1), int64(3), object(5)\n",
      "memory usage: 70.4+ KB\n"
     ]
    }
   ],
   "source": [
    "df.info()"
   ]
  },
  {
   "cell_type": "code",
   "execution_count": 6,
   "metadata": {
    "ExecuteTime": {
     "end_time": "2019-11-21T04:45:40.525392Z",
     "start_time": "2019-11-21T04:45:40.462871Z"
    }
   },
   "outputs": [
    {
     "data": {
      "text/html": [
       "<div>\n",
       "<style scoped>\n",
       "    .dataframe tbody tr th:only-of-type {\n",
       "        vertical-align: middle;\n",
       "    }\n",
       "\n",
       "    .dataframe tbody tr th {\n",
       "        vertical-align: top;\n",
       "    }\n",
       "\n",
       "    .dataframe thead th {\n",
       "        text-align: right;\n",
       "    }\n",
       "</style>\n",
       "<table border=\"1\" class=\"dataframe\">\n",
       "  <thead>\n",
       "    <tr style=\"text-align: right;\">\n",
       "      <th></th>\n",
       "      <th>Salary</th>\n",
       "      <th>Children</th>\n",
       "      <th>Catalogs</th>\n",
       "      <th>AmountSpent</th>\n",
       "    </tr>\n",
       "  </thead>\n",
       "  <tbody>\n",
       "    <tr>\n",
       "      <td>count</td>\n",
       "      <td>1000.000000</td>\n",
       "      <td>1000.00000</td>\n",
       "      <td>1000.000000</td>\n",
       "      <td>994.000000</td>\n",
       "    </tr>\n",
       "    <tr>\n",
       "      <td>mean</td>\n",
       "      <td>55916.600000</td>\n",
       "      <td>0.93400</td>\n",
       "      <td>14.682000</td>\n",
       "      <td>1218.188129</td>\n",
       "    </tr>\n",
       "    <tr>\n",
       "      <td>std</td>\n",
       "      <td>30748.392284</td>\n",
       "      <td>1.05107</td>\n",
       "      <td>6.622895</td>\n",
       "      <td>961.849079</td>\n",
       "    </tr>\n",
       "    <tr>\n",
       "      <td>min</td>\n",
       "      <td>0.000000</td>\n",
       "      <td>0.00000</td>\n",
       "      <td>6.000000</td>\n",
       "      <td>0.000000</td>\n",
       "    </tr>\n",
       "    <tr>\n",
       "      <td>25%</td>\n",
       "      <td>29200.000000</td>\n",
       "      <td>0.00000</td>\n",
       "      <td>6.000000</td>\n",
       "      <td>490.250000</td>\n",
       "    </tr>\n",
       "    <tr>\n",
       "      <td>50%</td>\n",
       "      <td>53700.000000</td>\n",
       "      <td>1.00000</td>\n",
       "      <td>12.000000</td>\n",
       "      <td>962.500000</td>\n",
       "    </tr>\n",
       "    <tr>\n",
       "      <td>75%</td>\n",
       "      <td>76925.000000</td>\n",
       "      <td>2.00000</td>\n",
       "      <td>18.000000</td>\n",
       "      <td>1688.750000</td>\n",
       "    </tr>\n",
       "    <tr>\n",
       "      <td>max</td>\n",
       "      <td>168800.000000</td>\n",
       "      <td>3.00000</td>\n",
       "      <td>24.000000</td>\n",
       "      <td>6217.000000</td>\n",
       "    </tr>\n",
       "  </tbody>\n",
       "</table>\n",
       "</div>"
      ],
      "text/plain": [
       "              Salary    Children     Catalogs  AmountSpent\n",
       "count    1000.000000  1000.00000  1000.000000   994.000000\n",
       "mean    55916.600000     0.93400    14.682000  1218.188129\n",
       "std     30748.392284     1.05107     6.622895   961.849079\n",
       "min         0.000000     0.00000     6.000000     0.000000\n",
       "25%     29200.000000     0.00000     6.000000   490.250000\n",
       "50%     53700.000000     1.00000    12.000000   962.500000\n",
       "75%     76925.000000     2.00000    18.000000  1688.750000\n",
       "max    168800.000000     3.00000    24.000000  6217.000000"
      ]
     },
     "execution_count": 6,
     "metadata": {},
     "output_type": "execute_result"
    }
   ],
   "source": [
    "df.describe()"
   ]
  },
  {
   "cell_type": "code",
   "execution_count": 7,
   "metadata": {
    "ExecuteTime": {
     "end_time": "2019-11-21T04:45:42.372494Z",
     "start_time": "2019-11-21T04:45:42.341230Z"
    }
   },
   "outputs": [],
   "source": [
    "df.replace(np.nan, 0, inplace=True)"
   ]
  },
  {
   "cell_type": "code",
   "execution_count": 8,
   "metadata": {
    "ExecuteTime": {
     "end_time": "2019-11-21T04:45:43.289801Z",
     "start_time": "2019-11-21T04:45:43.258549Z"
    }
   },
   "outputs": [],
   "source": [
    "df['AmountSpent']=pd.DataFrame(df['AmountSpent'].astype(int)) "
   ]
  },
  {
   "cell_type": "code",
   "execution_count": 9,
   "metadata": {
    "ExecuteTime": {
     "end_time": "2019-11-21T04:45:44.177462Z",
     "start_time": "2019-11-21T04:45:44.146228Z"
    }
   },
   "outputs": [
    {
     "name": "stdout",
     "output_type": "stream",
     "text": [
      "<class 'pandas.core.frame.DataFrame'>\n",
      "RangeIndex: 1000 entries, 0 to 999\n",
      "Data columns (total 9 columns):\n",
      "Age            1000 non-null object\n",
      "Gender         1000 non-null object\n",
      "OwnHome        1000 non-null object\n",
      "Married        1000 non-null object\n",
      "Location       1000 non-null object\n",
      "Salary         1000 non-null int64\n",
      "Children       1000 non-null int64\n",
      "Catalogs       1000 non-null int64\n",
      "AmountSpent    1000 non-null int32\n",
      "dtypes: int32(1), int64(3), object(5)\n",
      "memory usage: 66.5+ KB\n"
     ]
    }
   ],
   "source": [
    "df.info()"
   ]
  },
  {
   "cell_type": "code",
   "execution_count": 10,
   "metadata": {
    "ExecuteTime": {
     "end_time": "2019-11-21T04:45:45.144711Z",
     "start_time": "2019-11-21T04:45:45.113456Z"
    }
   },
   "outputs": [
    {
     "data": {
      "text/plain": [
       "Index(['Age', 'Gender', 'OwnHome', 'Married', 'Location', 'Salary', 'Children',\n",
       "       'Catalogs', 'AmountSpent'],\n",
       "      dtype='object')"
      ]
     },
     "execution_count": 10,
     "metadata": {},
     "output_type": "execute_result"
    }
   ],
   "source": [
    "df.columns"
   ]
  },
  {
   "cell_type": "code",
   "execution_count": 11,
   "metadata": {
    "ExecuteTime": {
     "end_time": "2019-11-21T04:45:46.078713Z",
     "start_time": "2019-11-21T04:45:45.984937Z"
    }
   },
   "outputs": [],
   "source": [
    "df1= pd.get_dummies(df[['Age', 'Gender', 'OwnHome', 'Married', 'Location', 'Salary', 'Children',\n",
    "       'Catalogs', 'AmountSpent']],drop_first=True)"
   ]
  },
  {
   "cell_type": "code",
   "execution_count": 12,
   "metadata": {
    "ExecuteTime": {
     "end_time": "2019-11-21T04:45:49.197967Z",
     "start_time": "2019-11-21T04:45:49.182329Z"
    }
   },
   "outputs": [
    {
     "data": {
      "text/plain": [
       "Index(['Salary', 'Children', 'Catalogs', 'AmountSpent', 'Age_Old', 'Age_Young',\n",
       "       'Gender_Male', 'OwnHome_Rent', 'Married_Single', 'Location_Far'],\n",
       "      dtype='object')"
      ]
     },
     "execution_count": 12,
     "metadata": {},
     "output_type": "execute_result"
    }
   ],
   "source": [
    "df1.columns"
   ]
  },
  {
   "cell_type": "code",
   "execution_count": 13,
   "metadata": {
    "ExecuteTime": {
     "end_time": "2019-11-21T04:45:49.899736Z",
     "start_time": "2019-11-21T04:45:49.861829Z"
    }
   },
   "outputs": [
    {
     "data": {
      "text/html": [
       "<div>\n",
       "<style scoped>\n",
       "    .dataframe tbody tr th:only-of-type {\n",
       "        vertical-align: middle;\n",
       "    }\n",
       "\n",
       "    .dataframe tbody tr th {\n",
       "        vertical-align: top;\n",
       "    }\n",
       "\n",
       "    .dataframe thead th {\n",
       "        text-align: right;\n",
       "    }\n",
       "</style>\n",
       "<table border=\"1\" class=\"dataframe\">\n",
       "  <thead>\n",
       "    <tr style=\"text-align: right;\">\n",
       "      <th></th>\n",
       "      <th>Salary</th>\n",
       "      <th>Children</th>\n",
       "      <th>Catalogs</th>\n",
       "      <th>AmountSpent</th>\n",
       "      <th>Age_Old</th>\n",
       "      <th>Age_Young</th>\n",
       "      <th>Gender_Male</th>\n",
       "      <th>OwnHome_Rent</th>\n",
       "      <th>Married_Single</th>\n",
       "      <th>Location_Far</th>\n",
       "    </tr>\n",
       "  </thead>\n",
       "  <tbody>\n",
       "    <tr>\n",
       "      <td>0</td>\n",
       "      <td>47500</td>\n",
       "      <td>0</td>\n",
       "      <td>6</td>\n",
       "      <td>755</td>\n",
       "      <td>1</td>\n",
       "      <td>0</td>\n",
       "      <td>0</td>\n",
       "      <td>0</td>\n",
       "      <td>1</td>\n",
       "      <td>1</td>\n",
       "    </tr>\n",
       "    <tr>\n",
       "      <td>1</td>\n",
       "      <td>63600</td>\n",
       "      <td>0</td>\n",
       "      <td>6</td>\n",
       "      <td>1318</td>\n",
       "      <td>0</td>\n",
       "      <td>0</td>\n",
       "      <td>1</td>\n",
       "      <td>1</td>\n",
       "      <td>1</td>\n",
       "      <td>0</td>\n",
       "    </tr>\n",
       "    <tr>\n",
       "      <td>2</td>\n",
       "      <td>13500</td>\n",
       "      <td>0</td>\n",
       "      <td>18</td>\n",
       "      <td>296</td>\n",
       "      <td>0</td>\n",
       "      <td>1</td>\n",
       "      <td>0</td>\n",
       "      <td>1</td>\n",
       "      <td>1</td>\n",
       "      <td>0</td>\n",
       "    </tr>\n",
       "    <tr>\n",
       "      <td>3</td>\n",
       "      <td>85600</td>\n",
       "      <td>1</td>\n",
       "      <td>18</td>\n",
       "      <td>2436</td>\n",
       "      <td>0</td>\n",
       "      <td>0</td>\n",
       "      <td>1</td>\n",
       "      <td>0</td>\n",
       "      <td>0</td>\n",
       "      <td>0</td>\n",
       "    </tr>\n",
       "    <tr>\n",
       "      <td>4</td>\n",
       "      <td>68400</td>\n",
       "      <td>0</td>\n",
       "      <td>12</td>\n",
       "      <td>1304</td>\n",
       "      <td>0</td>\n",
       "      <td>0</td>\n",
       "      <td>0</td>\n",
       "      <td>0</td>\n",
       "      <td>1</td>\n",
       "      <td>0</td>\n",
       "    </tr>\n",
       "  </tbody>\n",
       "</table>\n",
       "</div>"
      ],
      "text/plain": [
       "   Salary  Children  Catalogs  AmountSpent  Age_Old  Age_Young  Gender_Male  \\\n",
       "0   47500         0         6          755        1          0            0   \n",
       "1   63600         0         6         1318        0          0            1   \n",
       "2   13500         0        18          296        0          1            0   \n",
       "3   85600         1        18         2436        0          0            1   \n",
       "4   68400         0        12         1304        0          0            0   \n",
       "\n",
       "   OwnHome_Rent  Married_Single  Location_Far  \n",
       "0             0               1             1  \n",
       "1             1               1             0  \n",
       "2             1               1             0  \n",
       "3             0               0             0  \n",
       "4             0               1             0  "
      ]
     },
     "execution_count": 13,
     "metadata": {},
     "output_type": "execute_result"
    }
   ],
   "source": [
    "df1.head()"
   ]
  },
  {
   "cell_type": "code",
   "execution_count": 14,
   "metadata": {
    "ExecuteTime": {
     "end_time": "2019-11-21T04:45:52.136198Z",
     "start_time": "2019-11-21T04:45:50.631709Z"
    }
   },
   "outputs": [
    {
     "data": {
      "text/plain": [
       "<matplotlib.axes._subplots.AxesSubplot at 0x26f31cc61c8>"
      ]
     },
     "execution_count": 14,
     "metadata": {},
     "output_type": "execute_result"
    },
    {
     "data": {
      "image/png": "[encoded data removed]",
      "text/plain": [
       "<Figure size 864x720 with 2 Axes>"
      ]
     },
     "metadata": {
      "needs_background": "light"
     },
     "output_type": "display_data"
    }
   ],
   "source": [
    "plt.figure(figsize=(12,10))\n",
    "sns.heatmap(df1.corr(),annot=True)"
   ]
  },
  {
   "cell_type": "markdown",
   "metadata": {},
   "source": [
    "## Train Test Split"
   ]
  },
  {
   "cell_type": "code",
   "execution_count": 113,
   "metadata": {
    "ExecuteTime": {
     "end_time": "2019-11-21T07:48:30.363122Z",
     "start_time": "2019-11-21T07:48:30.331736Z"
    }
   },
   "outputs": [
    {
     "data": {
      "text/plain": [
       "Index(['Salary', 'Children', 'Catalogs', 'AmountSpent', 'Age_Old', 'Age_Young',\n",
       "       'Gender_Male', 'OwnHome_Rent', 'Married_Single', 'Location_Far'],\n",
       "      dtype='object')"
      ]
     },
     "execution_count": 113,
     "metadata": {},
     "output_type": "execute_result"
    }
   ],
   "source": [
    "df1.columns"
   ]
  },
  {
   "cell_type": "code",
   "execution_count": 114,
   "metadata": {
    "ExecuteTime": {
     "end_time": "2019-11-21T07:48:42.040783Z",
     "start_time": "2019-11-21T07:48:42.009533Z"
    }
   },
   "outputs": [],
   "source": [
    "X = df1[['Children', 'Catalogs', 'AmountSpent', 'Age_Old', 'Age_Young',\n",
    "       'Gender_Male', 'OwnHome_Rent', 'Married_Single', 'Location_Far']]\n",
    "y = df1['Salary']"
   ]
  },
  {
   "cell_type": "code",
   "execution_count": 115,
   "metadata": {
    "ExecuteTime": {
     "end_time": "2019-11-21T07:48:56.561756Z",
     "start_time": "2019-11-21T07:48:56.530505Z"
    }
   },
   "outputs": [],
   "source": [
    "from sklearn.model_selection import train_test_split\n",
    "X_train, X_test, y_train, y_test = train_test_split(X, y, test_size=0.30, random_state=101)"
   ]
  },
  {
   "cell_type": "markdown",
   "metadata": {},
   "source": [
    "## Random Forest Regressor"
   ]
  },
  {
   "cell_type": "code",
   "execution_count": 101,
   "metadata": {
    "ExecuteTime": {
     "end_time": "2019-11-21T07:43:04.673827Z",
     "start_time": "2019-11-21T07:43:04.142542Z"
    }
   },
   "outputs": [
    {
     "data": {
      "text/plain": [
       "RandomForestRegressor(bootstrap=True, criterion='mse', max_depth=None,\n",
       "                      max_features='auto', max_leaf_nodes=None,\n",
       "                      min_impurity_decrease=0.0, min_impurity_split=None,\n",
       "                      min_samples_leaf=1, min_samples_split=2,\n",
       "                      min_weight_fraction_leaf=0.0, n_estimators=100,\n",
       "                      n_jobs=None, oob_score=False, random_state=None,\n",
       "                      verbose=0, warm_start=False)"
      ]
     },
     "execution_count": 101,
     "metadata": {},
     "output_type": "execute_result"
    }
   ],
   "source": [
    "from sklearn.ensemble import RandomForestRegressor\n",
    "rfc = RandomForestRegressor(n_estimators=100)\n",
    "rfc.fit(X_train, y_train)"
   ]
  },
  {
   "cell_type": "code",
   "execution_count": 102,
   "metadata": {
    "ExecuteTime": {
     "end_time": "2019-11-21T07:43:07.788503Z",
     "start_time": "2019-11-21T07:43:06.830173Z"
    }
   },
   "outputs": [
    {
     "data": {
      "text/plain": [
       "<matplotlib.axes._subplots.AxesSubplot at 0x26f4f077888>"
      ]
     },
     "execution_count": 102,
     "metadata": {},
     "output_type": "execute_result"
    },
    {
     "data": {
      "image/png": "[encoded data removed]",
      "text/plain": [
       "<Figure size 576x432 with 1 Axes>"
      ]
     },
     "metadata": {},
     "output_type": "display_data"
    }
   ],
   "source": [
    "sns.set_style('whitegrid')\n",
    "plt.figure(figsize=(8,6))\n",
    "coef1 = pd.Series(rfc.feature_importances_,X_train.columns).sort_values(ascending=False)\n",
    "coef1.sort_values().plot(kind='barh',title='Features Importances')"
   ]
  },
  {
   "cell_type": "code",
   "execution_count": 106,
   "metadata": {
    "ExecuteTime": {
     "end_time": "2019-11-21T07:44:29.725197Z",
     "start_time": "2019-11-21T07:44:29.678444Z"
    }
   },
   "outputs": [],
   "source": [
    "predict=rfc.predict(X_test)"
   ]
  },
  {
   "cell_type": "code",
   "execution_count": 120,
   "metadata": {
    "ExecuteTime": {
     "end_time": "2019-11-21T09:41:47.122813Z",
     "start_time": "2019-11-21T09:41:45.935232Z"
    }
   },
   "outputs": [
    {
     "data": {
      "text/plain": [
       "Text(0, 0.5, 'predicted Y')"
      ]
     },
     "execution_count": 120,
     "metadata": {},
     "output_type": "execute_result"
    },
    {
     "data": {
      "image/png": "[encoded data removed]",
      "text/plain": [
       "<Figure size 432x288 with 1 Axes>"
      ]
     },
     "metadata": {},
     "output_type": "display_data"
    }
   ],
   "source": [
    "predicts = rfc.predict(X_train)\n",
    "plt.scatter(y_test, predict)\n",
    "plt.xlabel('y_train')\n",
    "plt.ylabel('predicted Y')"
   ]
  },
  {
   "cell_type": "code",
   "execution_count": 108,
   "metadata": {
    "ExecuteTime": {
     "end_time": "2019-11-21T07:45:03.566893Z",
     "start_time": "2019-11-21T07:45:02.450593Z"
    }
   },
   "outputs": [
    {
     "data": {
      "text/plain": [
       "<matplotlib.axes._subplots.AxesSubplot at 0x26f4f1719c8>"
      ]
     },
     "execution_count": 108,
     "metadata": {},
     "output_type": "execute_result"
    },
    {
     "data": {
      "image/png": "[encoded data removed]",
      "text/plain": [
       "<Figure size 432x288 with 1 Axes>"
      ]
     },
     "metadata": {},
     "output_type": "display_data"
    }
   ],
   "source": [
    "sns.set_style(style='whitegrid')\n",
    "sns.distplot((y_test-predict),bins=50)"
   ]
  },
  {
   "cell_type": "code",
   "execution_count": 112,
   "metadata": {
    "ExecuteTime": {
     "end_time": "2019-11-21T07:47:03.731096Z",
     "start_time": "2019-11-21T07:47:03.699843Z"
    }
   },
   "outputs": [
    {
     "name": "stdout",
     "output_type": "stream",
     "text": [
      "MAE: 9983.891761904762\n",
      "MSE: 203781244.96683472\n",
      "RMSE: 14275.196845116872\n",
      "R2 score:  0.7529448499835707\n"
     ]
    }
   ],
   "source": [
    "from sklearn import metrics\n",
    "print('MAE:', metrics.mean_absolute_error(y_test, predict))\n",
    "print('MSE:', metrics.mean_squared_error(y_test, predict))\n",
    "print('RMSE:', np.sqrt(metrics.mean_squared_error(y_test, predict)))\n",
    "print('R2 score: ',metrics.r2_score(y_test, predict))"
   ]
  },
  {
   "cell_type": "markdown",
   "metadata": {},
   "source": [
    "## Linear Regression"
   ]
  },
  {
   "cell_type": "code",
   "execution_count": 54,
   "metadata": {
    "ExecuteTime": {
     "end_time": "2019-11-21T05:00:18.734638Z",
     "start_time": "2019-11-21T05:00:18.134526Z"
    }
   },
   "outputs": [
    {
     "data": {
      "text/plain": [
       "LinearRegression(copy_X=True, fit_intercept=True, n_jobs=None, normalize=False)"
      ]
     },
     "execution_count": 54,
     "metadata": {},
     "output_type": "execute_result"
    }
   ],
   "source": [
    "from sklearn.linear_model import LinearRegression\n",
    "\n",
    "lm = LinearRegression()\n",
    "lm.fit(X_train,y_train)"
   ]
  },
  {
   "cell_type": "code",
   "execution_count": 55,
   "metadata": {
    "ExecuteTime": {
     "end_time": "2019-11-21T05:00:19.530992Z",
     "start_time": "2019-11-21T05:00:19.499724Z"
    }
   },
   "outputs": [
    {
     "name": "stdout",
     "output_type": "stream",
     "text": [
      "Coefficients: \n",
      " [ 3.03734053e+03 -5.31410789e+02  1.44857269e+01 -1.17002272e+04\n",
      " -2.11878724e+04  5.90748575e+03 -5.37175537e+03 -2.28826563e+04\n",
      " -7.53086202e+03]\n"
     ]
    }
   ],
   "source": [
    "print('Coefficients: \\n', lm.coef_)"
   ]
  },
  {
   "cell_type": "code",
   "execution_count": null,
   "metadata": {},
   "outputs": [],
   "source": []
  },
  {
   "cell_type": "code",
   "execution_count": 56,
   "metadata": {
    "ExecuteTime": {
     "end_time": "2019-11-21T05:00:22.097975Z",
     "start_time": "2019-11-21T05:00:22.066812Z"
    }
   },
   "outputs": [
    {
     "data": {
      "text/plain": [
       "65297.92161275155"
      ]
     },
     "execution_count": 56,
     "metadata": {},
     "output_type": "execute_result"
    }
   ],
   "source": [
    "lm.intercept_"
   ]
  },
  {
   "cell_type": "code",
   "execution_count": 57,
   "metadata": {
    "ExecuteTime": {
     "end_time": "2019-11-21T05:00:22.982896Z",
     "start_time": "2019-11-21T05:00:22.945112Z"
    }
   },
   "outputs": [
    {
     "data": {
      "text/html": [
       "<div>\n",
       "<style scoped>\n",
       "    .dataframe tbody tr th:only-of-type {\n",
       "        vertical-align: middle;\n",
       "    }\n",
       "\n",
       "    .dataframe tbody tr th {\n",
       "        vertical-align: top;\n",
       "    }\n",
       "\n",
       "    .dataframe thead th {\n",
       "        text-align: right;\n",
       "    }\n",
       "</style>\n",
       "<table border=\"1\" class=\"dataframe\">\n",
       "  <thead>\n",
       "    <tr style=\"text-align: right;\">\n",
       "      <th></th>\n",
       "      <th>Coefficient</th>\n",
       "    </tr>\n",
       "  </thead>\n",
       "  <tbody>\n",
       "    <tr>\n",
       "      <td>Children</td>\n",
       "      <td>3037.340534</td>\n",
       "    </tr>\n",
       "    <tr>\n",
       "      <td>Catalogs</td>\n",
       "      <td>-531.410789</td>\n",
       "    </tr>\n",
       "    <tr>\n",
       "      <td>AmountSpent</td>\n",
       "      <td>14.485727</td>\n",
       "    </tr>\n",
       "    <tr>\n",
       "      <td>Age_Old</td>\n",
       "      <td>-11700.227187</td>\n",
       "    </tr>\n",
       "    <tr>\n",
       "      <td>Age_Young</td>\n",
       "      <td>-21187.872416</td>\n",
       "    </tr>\n",
       "    <tr>\n",
       "      <td>Gender_Male</td>\n",
       "      <td>5907.485754</td>\n",
       "    </tr>\n",
       "    <tr>\n",
       "      <td>OwnHome_Rent</td>\n",
       "      <td>-5371.755370</td>\n",
       "    </tr>\n",
       "    <tr>\n",
       "      <td>Married_Single</td>\n",
       "      <td>-22882.656284</td>\n",
       "    </tr>\n",
       "    <tr>\n",
       "      <td>Location_Far</td>\n",
       "      <td>-7530.862022</td>\n",
       "    </tr>\n",
       "  </tbody>\n",
       "</table>\n",
       "</div>"
      ],
      "text/plain": [
       "                 Coefficient\n",
       "Children         3037.340534\n",
       "Catalogs         -531.410789\n",
       "AmountSpent        14.485727\n",
       "Age_Old        -11700.227187\n",
       "Age_Young      -21187.872416\n",
       "Gender_Male      5907.485754\n",
       "OwnHome_Rent    -5371.755370\n",
       "Married_Single -22882.656284\n",
       "Location_Far    -7530.862022"
      ]
     },
     "execution_count": 57,
     "metadata": {},
     "output_type": "execute_result"
    }
   ],
   "source": [
    "pd.DataFrame(index=X_train.columns, data = lm.coef_, columns=['Coefficient'])"
   ]
  },
  {
   "cell_type": "markdown",
   "metadata": {},
   "source": [
    "## Predictions"
   ]
  },
  {
   "cell_type": "code",
   "execution_count": 64,
   "metadata": {
    "ExecuteTime": {
     "end_time": "2019-11-21T05:02:28.256893Z",
     "start_time": "2019-11-21T05:02:28.225638Z"
    }
   },
   "outputs": [],
   "source": [
    "prediction = lm.predict(X_test)"
   ]
  },
  {
   "cell_type": "code",
   "execution_count": 65,
   "metadata": {
    "ExecuteTime": {
     "end_time": "2019-11-21T05:02:29.060876Z",
     "start_time": "2019-11-21T05:02:29.029625Z"
    }
   },
   "outputs": [
    {
     "data": {
      "text/plain": [
       "array([ 39950.82600379,  50872.56472931,  96906.64359716,  72242.43848289,\n",
       "        18630.63017995,  18339.6773076 ,  69528.65406233,  16441.68060323,\n",
       "        68326.46907725,  20110.14561579,  10592.76771541,  92550.69428083,\n",
       "        72555.37633994,  80460.1820555 ,  24488.39182251,  42092.71554054,\n",
       "        47467.44405005,  64574.63124393,  56284.32890854,  83138.93609408,\n",
       "        88290.17459183,  82597.8027086 , 103797.29865449,  50852.68354231,\n",
       "        27753.28909001,  18741.85387659,  96005.43006704,  53864.36524433,\n",
       "        46318.53985394,  90279.90009395,  51309.9598729 ,  77520.72119267,\n",
       "        66179.79636873, 107413.30541402,  81297.4080731 ,  58247.48241722,\n",
       "        42266.59044535,  77248.6891121 ,  22116.39790474,  21124.14650006,\n",
       "        19384.25445779,  71632.53560173,  81884.94478299,  48857.91648944,\n",
       "        82217.96418457,  20195.45516521,  44394.94000259,  78219.13454593,\n",
       "        19572.56890773,  47804.80024681,  11544.01125577,  52114.4354333 ,\n",
       "        68074.31126695,  64800.53698344,  55488.37147125,  81418.11507504,\n",
       "        25318.74037555,  50471.2258829 ,  15673.93707656,  13823.08481816,\n",
       "        70103.2130177 ,  28237.1377877 ,  39335.65917164,  43669.36218115,\n",
       "        39222.98298045,  55220.94034479,  18367.04394936,  75146.71664621,\n",
       "        55665.7568717 ,  18746.5159953 ,  18369.88709543,  37275.4676236 ,\n",
       "        78064.85619966,  23101.17202006,  83933.18041361,  14938.83284413,\n",
       "        45627.23290858,  83741.84299762,  30932.43520848,  23965.64506518,\n",
       "        49917.02554834,  49927.09066865,  92627.6183933 ,  56545.1753643 ,\n",
       "        10340.24342701,  74321.18252941,  87907.5616665 ,  47949.6113342 ,\n",
       "        16911.09605602,  86898.09231313,  42229.01390727,  76671.09228649,\n",
       "        49778.04892183,  69500.12629418,  48676.65603498,  32982.87801958,\n",
       "        77667.07211096,  71666.21903033,  16427.5613544 ,  84445.87351305,\n",
       "        84685.3521969 ,  85122.48448385,  46916.01133501,  36660.96118128,\n",
       "        92234.34644209,  41994.41894053,  69235.4374796 ,  48841.93711341,\n",
       "        40708.34339112,  67192.39789999,  46509.41478328,  49463.10739584,\n",
       "        70763.44184269,  64938.17227837,  50407.01688924,  81541.79713812,\n",
       "        70686.95907959,  17919.59122698,  83526.84109671,  44831.17210007,\n",
       "        12952.33639099,  43582.21192935,  14935.53148183,  83624.68450771,\n",
       "        15165.33182234,  48072.62992923,  35360.14204624,  48898.36254536,\n",
       "        62368.53967326,  75919.51612122,  21282.23735915,  63645.84412146,\n",
       "        74771.93407052,  91418.85009406,  94038.31734982,  78098.989143  ,\n",
       "        50149.33111134,  29326.25813509,  71414.32470053,  73305.81834516,\n",
       "        85337.05759069,  81822.18743907,  57260.97852383,  59125.24735956,\n",
       "        49725.45529245,  44820.69431987,  27020.41746987,  46945.84671803,\n",
       "        19123.14489517,  22873.709833  ,  57164.05367506,  52570.55822111,\n",
       "        61316.98206092,  34347.13798385,   7642.68859606,  67784.15537922,\n",
       "        68831.97587028,  46375.98593439,  15833.28007266,  49566.26964111,\n",
       "        83409.11457899,  69342.18593658, 101143.2010043 ,  44435.26500544,\n",
       "        59359.91527786,  79796.47396793,  30013.96222123,  42192.55699868,\n",
       "       114442.59196431,  59374.0483297 ,  11504.13017727,  82319.51659053,\n",
       "        78514.54369272,  56070.81421639,  19353.31171378,  73510.22333409,\n",
       "        82019.97844396,  21481.98022938,  26454.03007678,  82580.25967506,\n",
       "        72164.50322524,  59429.54192094,  84163.34723222,  84805.90013096,\n",
       "        45479.79597384,  53088.11431791,  17961.34059806, 115449.826547  ,\n",
       "        42646.27665185,  87840.14220388,  81806.83586326,  98520.67389833,\n",
       "        92972.03249847,  85644.46748013, 101206.93320169,  50289.08152407,\n",
       "        95440.12023914,  60736.25874415,  70715.68902133,  55546.74622339,\n",
       "        54627.59896983,  36359.76836657,  68025.63945515,  12963.61249375,\n",
       "        16416.39641462,  22373.81991626,  51148.8462687 ,  39666.03706464,\n",
       "        73068.27723477,  47886.85399029,  86358.61942485,  16069.31908268,\n",
       "        27266.67482748,  47161.79129023,  88409.27003133,  60181.38051465,\n",
       "        51133.82660947,  18833.43035681,  53649.11599711,  22949.92820586,\n",
       "        23590.27675358,  77402.6780529 ,  26883.80687291,  87726.8360541 ,\n",
       "        57017.5915938 ,  22348.16953543,  68888.72159853,  96635.92458688,\n",
       "        15962.04680284, 118950.7103425 ,  67104.31964757,  85311.29576101,\n",
       "        44428.02106279,  55697.5714716 ,  43998.97722285,  47217.86590531,\n",
       "        16223.41984597,  78083.41739963,  96307.67846698,  75617.26495676,\n",
       "        67317.2913307 ,  84653.59928911,  65779.35496094,  27643.57565912,\n",
       "        86165.95364919,  62387.32104079,  64039.30167872,  20137.51225754,\n",
       "        39317.83406601,  29931.20407608,  90159.46332288,  53495.45328614,\n",
       "        80633.51395129,  75683.72470259,  21779.19441071,  24347.83019394,\n",
       "        57341.93652659,  45293.05507151,  48540.83530932,  61411.77686678,\n",
       "        69308.91884213,  67504.1532861 ,  57463.12955592,  50147.54504202,\n",
       "        64461.73520887,  36317.80483492,  62836.37857525,  45524.59448617,\n",
       "        84056.31017161,  20613.93643376,  70580.3420238 ,  64748.99389926,\n",
       "        79258.82238861,  43508.17848268,  75344.7491632 ,  17805.42138668,\n",
       "        78370.66127702,  50899.10883512,  18160.81998779,  64214.23860753,\n",
       "        91103.98171621,  62877.25609045,  36493.23837002,  13576.56398005,\n",
       "        54575.27384818,  89470.30419862,  14695.17457691,  83381.48445673,\n",
       "        51827.77820156,  72368.30022399,  68935.18294437,  52656.96668027,\n",
       "        72887.79337313,  57802.42248135,  57910.25656959,  52089.49829795,\n",
       "        59949.05679982,  54472.35311501,  43591.35939717,  87228.57320372])"
      ]
     },
     "execution_count": 65,
     "metadata": {},
     "output_type": "execute_result"
    }
   ],
   "source": [
    "prediction"
   ]
  },
  {
   "cell_type": "markdown",
   "metadata": {},
   "source": [
    "## Evaluation"
   ]
  },
  {
   "cell_type": "code",
   "execution_count": null,
   "metadata": {
    "ExecuteTime": {
     "end_time": "2019-11-14T04:54:28.173530Z",
     "start_time": "2019-11-14T04:54:27.970399Z"
    }
   },
   "outputs": [],
   "source": []
  },
  {
   "cell_type": "code",
   "execution_count": 123,
   "metadata": {
    "ExecuteTime": {
     "end_time": "2019-11-21T09:44:19.856736Z",
     "start_time": "2019-11-21T09:44:18.919172Z"
    }
   },
   "outputs": [
    {
     "data": {
      "text/plain": [
       "Text(0, 0.5, 'predicted Y')"
      ]
     },
     "execution_count": 123,
     "metadata": {},
     "output_type": "execute_result"
    },
    {
     "data": {
      "image/png": "[encoded data removed]",
      "text/plain": [
       "<Figure size 432x288 with 1 Axes>"
      ]
     },
     "metadata": {},
     "output_type": "display_data"
    }
   ],
   "source": [
    "prediction = lm.predict(X_test)\n",
    "plt.scatter(y_test, prediction)\n",
    "plt.xlabel('y_train')\n",
    "plt.ylabel('predicted Y')"
   ]
  },
  {
   "cell_type": "code",
   "execution_count": 125,
   "metadata": {
    "ExecuteTime": {
     "end_time": "2019-11-21T09:44:45.272862Z",
     "start_time": "2019-11-21T09:44:44.248633Z"
    },
    "scrolled": true
   },
   "outputs": [
    {
     "data": {
      "text/plain": [
       "<matplotlib.axes._subplots.AxesSubplot at 0x26f4e039908>"
      ]
     },
     "execution_count": 125,
     "metadata": {},
     "output_type": "execute_result"
    },
    {
     "data": {
      "image/png": "[encoded data removed]",
      "text/plain": [
       "<Figure size 432x288 with 1 Axes>"
      ]
     },
     "metadata": {},
     "output_type": "display_data"
    }
   ],
   "source": [
    "sns.set_style(style='whitegrid')\n",
    "sns.distplot((y_test-prediction),bins=50)"
   ]
  },
  {
   "cell_type": "code",
   "execution_count": 96,
   "metadata": {
    "ExecuteTime": {
     "end_time": "2019-11-21T06:07:48.140482Z",
     "start_time": "2019-11-21T06:07:48.109216Z"
    }
   },
   "outputs": [
    {
     "name": "stdout",
     "output_type": "stream",
     "text": [
      "MAE: 10078.746216562662\n",
      "MSE: 183912919.30853388\n",
      "RMSE: 13561.449749511808\n",
      "R2 score:  0.8152097633041122\n"
     ]
    }
   ],
   "source": [
    "from sklearn import metrics\n",
    "print('MAE:', metrics.mean_absolute_error(y_train, predictions))\n",
    "print('MSE:', metrics.mean_squared_error(y_train, predictions))\n",
    "print('RMSE:', np.sqrt(metrics.mean_squared_error(y_train, predictions)))\n",
    "print('R2 score: ',metrics.r2_score(y_train, predictions))"
   ]
  },
  {
   "cell_type": "code",
   "execution_count": 95,
   "metadata": {
    "ExecuteTime": {
     "end_time": "2019-11-21T06:07:45.780899Z",
     "start_time": "2019-11-21T06:07:45.749646Z"
    }
   },
   "outputs": [
    {
     "name": "stdout",
     "output_type": "stream",
     "text": [
      "MAE: 10077.362508152299\n",
      "MSE: 199559242.6501339\n",
      "RMSE: 14126.54390323882\n",
      "R2 score:  0.7580634143337491\n"
     ]
    }
   ],
   "source": [
    "from sklearn import metrics\n",
    "print('MAE:', metrics.mean_absolute_error(y_test, prediction))\n",
    "print('MSE:', metrics.mean_squared_error(y_test, prediction))\n",
    "print('RMSE:', np.sqrt(metrics.mean_squared_error(y_test, prediction)))\n",
    "print('R2 score: ',metrics.r2_score(y_test, prediction))"
   ]
  },
  {
   "cell_type": "code",
   "execution_count": 82,
   "metadata": {
    "ExecuteTime": {
     "end_time": "2019-11-21T05:40:07.035042Z",
     "start_time": "2019-11-21T05:40:07.003790Z"
    }
   },
   "outputs": [
    {
     "data": {
      "text/html": [
       "<div>\n",
       "<style scoped>\n",
       "    .dataframe tbody tr th:only-of-type {\n",
       "        vertical-align: middle;\n",
       "    }\n",
       "\n",
       "    .dataframe tbody tr th {\n",
       "        vertical-align: top;\n",
       "    }\n",
       "\n",
       "    .dataframe thead th {\n",
       "        text-align: right;\n",
       "    }\n",
       "</style>\n",
       "<table border=\"1\" class=\"dataframe\">\n",
       "  <thead>\n",
       "    <tr style=\"text-align: right;\">\n",
       "      <th></th>\n",
       "      <th>Coeffecient</th>\n",
       "    </tr>\n",
       "  </thead>\n",
       "  <tbody>\n",
       "    <tr>\n",
       "      <td>Children</td>\n",
       "      <td>3037.340534</td>\n",
       "    </tr>\n",
       "    <tr>\n",
       "      <td>Catalogs</td>\n",
       "      <td>-531.410789</td>\n",
       "    </tr>\n",
       "    <tr>\n",
       "      <td>AmountSpent</td>\n",
       "      <td>14.485727</td>\n",
       "    </tr>\n",
       "    <tr>\n",
       "      <td>Age_Old</td>\n",
       "      <td>-11700.227187</td>\n",
       "    </tr>\n",
       "    <tr>\n",
       "      <td>Age_Young</td>\n",
       "      <td>-21187.872416</td>\n",
       "    </tr>\n",
       "    <tr>\n",
       "      <td>Gender_Male</td>\n",
       "      <td>5907.485754</td>\n",
       "    </tr>\n",
       "    <tr>\n",
       "      <td>OwnHome_Rent</td>\n",
       "      <td>-5371.755370</td>\n",
       "    </tr>\n",
       "    <tr>\n",
       "      <td>Married_Single</td>\n",
       "      <td>-22882.656284</td>\n",
       "    </tr>\n",
       "    <tr>\n",
       "      <td>Location_Far</td>\n",
       "      <td>-7530.862022</td>\n",
       "    </tr>\n",
       "  </tbody>\n",
       "</table>\n",
       "</div>"
      ],
      "text/plain": [
       "                 Coeffecient\n",
       "Children         3037.340534\n",
       "Catalogs         -531.410789\n",
       "AmountSpent        14.485727\n",
       "Age_Old        -11700.227187\n",
       "Age_Young      -21187.872416\n",
       "Gender_Male      5907.485754\n",
       "OwnHome_Rent    -5371.755370\n",
       "Married_Single -22882.656284\n",
       "Location_Far    -7530.862022"
      ]
     },
     "execution_count": 82,
     "metadata": {},
     "output_type": "execute_result"
    }
   ],
   "source": [
    "coeffecients = pd.DataFrame(lm.coef_,X.columns)\n",
    "coeffecients.columns = ['Coeffecient']\n",
    "coeffecients"
   ]
  },
  {
   "cell_type": "markdown",
   "metadata": {},
   "source": [
    "## Ridge Regression"
   ]
  },
  {
   "cell_type": "code",
   "execution_count": 22,
   "metadata": {
    "ExecuteTime": {
     "end_time": "2019-11-21T04:46:20.125241Z",
     "start_time": "2019-11-21T04:46:20.109601Z"
    }
   },
   "outputs": [],
   "source": [
    "from sklearn.linear_model import Ridge"
   ]
  },
  {
   "cell_type": "code",
   "execution_count": 23,
   "metadata": {
    "ExecuteTime": {
     "end_time": "2019-11-21T04:46:20.697442Z",
     "start_time": "2019-11-21T04:46:20.666038Z"
    }
   },
   "outputs": [],
   "source": [
    "rlm = Ridge(alpha = 0.1, normalize=True)"
   ]
  },
  {
   "cell_type": "code",
   "execution_count": 24,
   "metadata": {
    "ExecuteTime": {
     "end_time": "2019-11-21T04:46:22.076322Z",
     "start_time": "2019-11-21T04:46:21.228902Z"
    }
   },
   "outputs": [
    {
     "data": {
      "text/plain": [
       "Ridge(alpha=0.1, copy_X=True, fit_intercept=True, max_iter=None, normalize=True,\n",
       "      random_state=None, solver='auto', tol=0.001)"
      ]
     },
     "execution_count": 24,
     "metadata": {},
     "output_type": "execute_result"
    }
   ],
   "source": [
    "rlm.fit(X_train,y_train)"
   ]
  },
  {
   "cell_type": "code",
   "execution_count": 25,
   "metadata": {
    "ExecuteTime": {
     "end_time": "2019-11-21T04:46:22.562094Z",
     "start_time": "2019-11-21T04:46:22.084322Z"
    }
   },
   "outputs": [
    {
     "data": {
      "text/plain": [
       "<matplotlib.collections.PathCollection at 0x26f32d61a08>"
      ]
     },
     "execution_count": 25,
     "metadata": {},
     "output_type": "execute_result"
    },
    {
     "data": {
      "image/png": "[encoded data removed]",
      "text/plain": [
       "<Figure size 432x288 with 1 Axes>"
      ]
     },
     "metadata": {
      "needs_background": "light"
     },
     "output_type": "display_data"
    }
   ],
   "source": [
    "prediction =rlm.predict(X_test)\n",
    "plt.scatter(y_test, prediction)"
   ]
  },
  {
   "cell_type": "code",
   "execution_count": 26,
   "metadata": {
    "ExecuteTime": {
     "end_time": "2019-11-21T04:46:23.695798Z",
     "start_time": "2019-11-21T04:46:22.574187Z"
    }
   },
   "outputs": [
    {
     "data": {
      "text/plain": [
       "<matplotlib.axes._subplots.AxesSubplot at 0x26f32c5c048>"
      ]
     },
     "execution_count": 26,
     "metadata": {},
     "output_type": "execute_result"
    },
    {
     "data": {
      "image/png": "[encoded data removed]",
      "text/plain": [
       "<Figure size 432x288 with 1 Axes>"
      ]
     },
     "metadata": {},
     "output_type": "display_data"
    }
   ],
   "source": [
    "sns.set_style(style='whitegrid')\n",
    "sns.distplot((y_test-prediction),bins=50)"
   ]
  },
  {
   "cell_type": "code",
   "execution_count": 27,
   "metadata": {
    "ExecuteTime": {
     "end_time": "2019-11-21T04:46:23.711799Z",
     "start_time": "2019-11-21T04:46:23.699803Z"
    }
   },
   "outputs": [],
   "source": [
    "df['Predictions_ridge']=pd.DataFrame(prediction)"
   ]
  },
  {
   "cell_type": "code",
   "execution_count": 28,
   "metadata": {
    "ExecuteTime": {
     "end_time": "2019-11-21T04:46:23.902730Z",
     "start_time": "2019-11-21T04:46:23.872081Z"
    }
   },
   "outputs": [
    {
     "data": {
      "text/html": [
       "<div>\n",
       "<style scoped>\n",
       "    .dataframe tbody tr th:only-of-type {\n",
       "        vertical-align: middle;\n",
       "    }\n",
       "\n",
       "    .dataframe tbody tr th {\n",
       "        vertical-align: top;\n",
       "    }\n",
       "\n",
       "    .dataframe thead th {\n",
       "        text-align: right;\n",
       "    }\n",
       "</style>\n",
       "<table border=\"1\" class=\"dataframe\">\n",
       "  <thead>\n",
       "    <tr style=\"text-align: right;\">\n",
       "      <th></th>\n",
       "      <th>Age</th>\n",
       "      <th>Gender</th>\n",
       "      <th>OwnHome</th>\n",
       "      <th>Married</th>\n",
       "      <th>Location</th>\n",
       "      <th>Salary</th>\n",
       "      <th>Children</th>\n",
       "      <th>Catalogs</th>\n",
       "      <th>AmountSpent</th>\n",
       "      <th>Predictions_ridge</th>\n",
       "    </tr>\n",
       "  </thead>\n",
       "  <tbody>\n",
       "    <tr>\n",
       "      <td>0</td>\n",
       "      <td>Old</td>\n",
       "      <td>Female</td>\n",
       "      <td>Own</td>\n",
       "      <td>Single</td>\n",
       "      <td>Far</td>\n",
       "      <td>47500</td>\n",
       "      <td>0</td>\n",
       "      <td>6</td>\n",
       "      <td>755</td>\n",
       "      <td>40169.097293</td>\n",
       "    </tr>\n",
       "    <tr>\n",
       "      <td>1</td>\n",
       "      <td>Middle</td>\n",
       "      <td>Male</td>\n",
       "      <td>Rent</td>\n",
       "      <td>Single</td>\n",
       "      <td>Close</td>\n",
       "      <td>63600</td>\n",
       "      <td>0</td>\n",
       "      <td>6</td>\n",
       "      <td>1318</td>\n",
       "      <td>49769.989182</td>\n",
       "    </tr>\n",
       "    <tr>\n",
       "      <td>2</td>\n",
       "      <td>Young</td>\n",
       "      <td>Female</td>\n",
       "      <td>Rent</td>\n",
       "      <td>Single</td>\n",
       "      <td>Close</td>\n",
       "      <td>13500</td>\n",
       "      <td>0</td>\n",
       "      <td>18</td>\n",
       "      <td>296</td>\n",
       "      <td>93623.877286</td>\n",
       "    </tr>\n",
       "    <tr>\n",
       "      <td>3</td>\n",
       "      <td>Middle</td>\n",
       "      <td>Male</td>\n",
       "      <td>Own</td>\n",
       "      <td>Married</td>\n",
       "      <td>Close</td>\n",
       "      <td>85600</td>\n",
       "      <td>1</td>\n",
       "      <td>18</td>\n",
       "      <td>2436</td>\n",
       "      <td>71046.259183</td>\n",
       "    </tr>\n",
       "    <tr>\n",
       "      <td>4</td>\n",
       "      <td>Middle</td>\n",
       "      <td>Female</td>\n",
       "      <td>Own</td>\n",
       "      <td>Single</td>\n",
       "      <td>Close</td>\n",
       "      <td>68400</td>\n",
       "      <td>0</td>\n",
       "      <td>12</td>\n",
       "      <td>1304</td>\n",
       "      <td>19039.760032</td>\n",
       "    </tr>\n",
       "  </tbody>\n",
       "</table>\n",
       "</div>"
      ],
      "text/plain": [
       "      Age  Gender OwnHome  Married Location  Salary  Children  Catalogs  \\\n",
       "0     Old  Female     Own   Single      Far   47500         0         6   \n",
       "1  Middle    Male    Rent   Single    Close   63600         0         6   \n",
       "2   Young  Female    Rent   Single    Close   13500         0        18   \n",
       "3  Middle    Male     Own  Married    Close   85600         1        18   \n",
       "4  Middle  Female     Own   Single    Close   68400         0        12   \n",
       "\n",
       "   AmountSpent  Predictions_ridge  \n",
       "0          755       40169.097293  \n",
       "1         1318       49769.989182  \n",
       "2          296       93623.877286  \n",
       "3         2436       71046.259183  \n",
       "4         1304       19039.760032  "
      ]
     },
     "execution_count": 28,
     "metadata": {},
     "output_type": "execute_result"
    }
   ],
   "source": [
    "df.head()"
   ]
  },
  {
   "cell_type": "code",
   "execution_count": 29,
   "metadata": {
    "ExecuteTime": {
     "end_time": "2019-11-21T04:46:24.599352Z",
     "start_time": "2019-11-21T04:46:24.561454Z"
    }
   },
   "outputs": [
    {
     "data": {
      "text/plain": [
       "64259.73833424761"
      ]
     },
     "execution_count": 29,
     "metadata": {},
     "output_type": "execute_result"
    }
   ],
   "source": [
    "rlm.intercept_"
   ]
  },
  {
   "cell_type": "code",
   "execution_count": 30,
   "metadata": {
    "ExecuteTime": {
     "end_time": "2019-11-21T04:46:25.231392Z",
     "start_time": "2019-11-21T04:46:25.200138Z"
    }
   },
   "outputs": [
    {
     "data": {
      "text/html": [
       "<div>\n",
       "<style scoped>\n",
       "    .dataframe tbody tr th:only-of-type {\n",
       "        vertical-align: middle;\n",
       "    }\n",
       "\n",
       "    .dataframe tbody tr th {\n",
       "        vertical-align: top;\n",
       "    }\n",
       "\n",
       "    .dataframe thead th {\n",
       "        text-align: right;\n",
       "    }\n",
       "</style>\n",
       "<table border=\"1\" class=\"dataframe\">\n",
       "  <thead>\n",
       "    <tr style=\"text-align: right;\">\n",
       "      <th></th>\n",
       "      <th>Coefficient</th>\n",
       "    </tr>\n",
       "  </thead>\n",
       "  <tbody>\n",
       "    <tr>\n",
       "      <td>Children</td>\n",
       "      <td>2657.138092</td>\n",
       "    </tr>\n",
       "    <tr>\n",
       "      <td>Catalogs</td>\n",
       "      <td>-365.653374</td>\n",
       "    </tr>\n",
       "    <tr>\n",
       "      <td>AmountSpent</td>\n",
       "      <td>12.705934</td>\n",
       "    </tr>\n",
       "    <tr>\n",
       "      <td>Age_Old</td>\n",
       "      <td>-10287.513668</td>\n",
       "    </tr>\n",
       "    <tr>\n",
       "      <td>Age_Young</td>\n",
       "      <td>-19821.723552</td>\n",
       "    </tr>\n",
       "    <tr>\n",
       "      <td>Gender_Male</td>\n",
       "      <td>6231.937594</td>\n",
       "    </tr>\n",
       "    <tr>\n",
       "      <td>OwnHome_Rent</td>\n",
       "      <td>-6420.661279</td>\n",
       "    </tr>\n",
       "    <tr>\n",
       "      <td>Married_Single</td>\n",
       "      <td>-22007.409908</td>\n",
       "    </tr>\n",
       "    <tr>\n",
       "      <td>Location_Far</td>\n",
       "      <td>-6217.037035</td>\n",
       "    </tr>\n",
       "  </tbody>\n",
       "</table>\n",
       "</div>"
      ],
      "text/plain": [
       "                 Coefficient\n",
       "Children         2657.138092\n",
       "Catalogs         -365.653374\n",
       "AmountSpent        12.705934\n",
       "Age_Old        -10287.513668\n",
       "Age_Young      -19821.723552\n",
       "Gender_Male      6231.937594\n",
       "OwnHome_Rent    -6420.661279\n",
       "Married_Single -22007.409908\n",
       "Location_Far    -6217.037035"
      ]
     },
     "execution_count": 30,
     "metadata": {},
     "output_type": "execute_result"
    }
   ],
   "source": [
    "pd.DataFrame(index=X_train.columns, data=rlm.coef_, columns=['Coefficient'])"
   ]
  },
  {
   "cell_type": "code",
   "execution_count": 31,
   "metadata": {
    "ExecuteTime": {
     "end_time": "2019-11-21T04:46:26.020710Z",
     "start_time": "2019-11-21T04:46:25.989450Z"
    }
   },
   "outputs": [
    {
     "name": "stdout",
     "output_type": "stream",
     "text": [
      "MAE: 10098.658182986279\n",
      "MSE: 204247382.2695591\n",
      "RMSE: 14291.514344867694\n",
      "R2 score:  0.7523797262339755\n"
     ]
    }
   ],
   "source": [
    "from sklearn import metrics\n",
    "print('MAE:', metrics.mean_absolute_error(y_test, prediction))\n",
    "print('MSE:', metrics.mean_squared_error(y_test, prediction))\n",
    "print('RMSE:', np.sqrt(metrics.mean_squared_error(y_test, prediction)))\n",
    "print('R2 score: ',metrics.r2_score(y_test, prediction))"
   ]
  },
  {
   "cell_type": "markdown",
   "metadata": {},
   "source": [
    "## Lasso Regression"
   ]
  },
  {
   "cell_type": "code",
   "execution_count": 32,
   "metadata": {
    "ExecuteTime": {
     "end_time": "2019-11-21T04:46:27.538517Z",
     "start_time": "2019-11-21T04:46:27.522895Z"
    }
   },
   "outputs": [],
   "source": [
    "from sklearn.linear_model import Lasso"
   ]
  },
  {
   "cell_type": "code",
   "execution_count": 33,
   "metadata": {
    "ExecuteTime": {
     "end_time": "2019-11-21T04:46:28.193970Z",
     "start_time": "2019-11-21T04:46:28.178205Z"
    }
   },
   "outputs": [],
   "source": [
    "lim = Lasso(alpha=0.1)"
   ]
  },
  {
   "cell_type": "code",
   "execution_count": 34,
   "metadata": {
    "ExecuteTime": {
     "end_time": "2019-11-21T04:46:28.867687Z",
     "start_time": "2019-11-21T04:46:28.836437Z"
    }
   },
   "outputs": [
    {
     "data": {
      "text/plain": [
       "Lasso(alpha=0.1, copy_X=True, fit_intercept=True, max_iter=1000,\n",
       "      normalize=False, positive=False, precompute=False, random_state=None,\n",
       "      selection='cyclic', tol=0.0001, warm_start=False)"
      ]
     },
     "execution_count": 34,
     "metadata": {},
     "output_type": "execute_result"
    }
   ],
   "source": [
    "lim.fit(X_train, y_train)"
   ]
  },
  {
   "cell_type": "code",
   "execution_count": 35,
   "metadata": {
    "ExecuteTime": {
     "end_time": "2019-11-21T04:46:31.022605Z",
     "start_time": "2019-11-21T04:46:30.099129Z"
    }
   },
   "outputs": [
    {
     "data": {
      "text/plain": [
       "<matplotlib.collections.PathCollection at 0x26f32eb2808>"
      ]
     },
     "execution_count": 35,
     "metadata": {},
     "output_type": "execute_result"
    },
    {
     "data": {
      "image/png": "[encoded data removed]",
      "text/plain": [
       "<Figure size 432x288 with 1 Axes>"
      ]
     },
     "metadata": {},
     "output_type": "display_data"
    }
   ],
   "source": [
    "predictions = lim.predict(X_test)\n",
    "plt.scatter(y_test, predictions)"
   ]
  },
  {
   "cell_type": "code",
   "execution_count": 36,
   "metadata": {
    "ExecuteTime": {
     "end_time": "2019-11-21T04:46:32.516977Z",
     "start_time": "2019-11-21T04:46:31.026604Z"
    }
   },
   "outputs": [
    {
     "data": {
      "text/plain": [
       "<matplotlib.axes._subplots.AxesSubplot at 0x26f32ee9948>"
      ]
     },
     "execution_count": 36,
     "metadata": {},
     "output_type": "execute_result"
    },
    {
     "data": {
      "image/png": "[encoded data removed]",
      "text/plain": [
       "<Figure size 432x288 with 1 Axes>"
      ]
     },
     "metadata": {},
     "output_type": "display_data"
    }
   ],
   "source": [
    "sns.set_style(style='whitegrid')\n",
    "sns.distplot((y_test-predictions),bins=50)"
   ]
  },
  {
   "cell_type": "code",
   "execution_count": 37,
   "metadata": {
    "ExecuteTime": {
     "end_time": "2019-11-21T04:46:32.539302Z",
     "start_time": "2019-11-21T04:46:32.519017Z"
    }
   },
   "outputs": [],
   "source": [
    "df['Predictions_lasso']=pd.DataFrame(predictions)"
   ]
  },
  {
   "cell_type": "code",
   "execution_count": 38,
   "metadata": {
    "ExecuteTime": {
     "end_time": "2019-11-21T04:46:32.740861Z",
     "start_time": "2019-11-21T04:46:32.539302Z"
    }
   },
   "outputs": [
    {
     "data": {
      "text/html": [
       "<div>\n",
       "<style scoped>\n",
       "    .dataframe tbody tr th:only-of-type {\n",
       "        vertical-align: middle;\n",
       "    }\n",
       "\n",
       "    .dataframe tbody tr th {\n",
       "        vertical-align: top;\n",
       "    }\n",
       "\n",
       "    .dataframe thead th {\n",
       "        text-align: right;\n",
       "    }\n",
       "</style>\n",
       "<table border=\"1\" class=\"dataframe\">\n",
       "  <thead>\n",
       "    <tr style=\"text-align: right;\">\n",
       "      <th></th>\n",
       "      <th>Age</th>\n",
       "      <th>Gender</th>\n",
       "      <th>OwnHome</th>\n",
       "      <th>Married</th>\n",
       "      <th>Location</th>\n",
       "      <th>Salary</th>\n",
       "      <th>Children</th>\n",
       "      <th>Catalogs</th>\n",
       "      <th>AmountSpent</th>\n",
       "      <th>Predictions_ridge</th>\n",
       "      <th>Predictions_lasso</th>\n",
       "    </tr>\n",
       "  </thead>\n",
       "  <tbody>\n",
       "    <tr>\n",
       "      <td>0</td>\n",
       "      <td>Old</td>\n",
       "      <td>Female</td>\n",
       "      <td>Own</td>\n",
       "      <td>Single</td>\n",
       "      <td>Far</td>\n",
       "      <td>47500</td>\n",
       "      <td>0</td>\n",
       "      <td>6</td>\n",
       "      <td>755</td>\n",
       "      <td>40169.097293</td>\n",
       "      <td>39950.691621</td>\n",
       "    </tr>\n",
       "    <tr>\n",
       "      <td>1</td>\n",
       "      <td>Middle</td>\n",
       "      <td>Male</td>\n",
       "      <td>Rent</td>\n",
       "      <td>Single</td>\n",
       "      <td>Close</td>\n",
       "      <td>63600</td>\n",
       "      <td>0</td>\n",
       "      <td>6</td>\n",
       "      <td>1318</td>\n",
       "      <td>49769.989182</td>\n",
       "      <td>50872.639065</td>\n",
       "    </tr>\n",
       "    <tr>\n",
       "      <td>2</td>\n",
       "      <td>Young</td>\n",
       "      <td>Female</td>\n",
       "      <td>Rent</td>\n",
       "      <td>Single</td>\n",
       "      <td>Close</td>\n",
       "      <td>13500</td>\n",
       "      <td>0</td>\n",
       "      <td>18</td>\n",
       "      <td>296</td>\n",
       "      <td>93623.877286</td>\n",
       "      <td>96905.861137</td>\n",
       "    </tr>\n",
       "    <tr>\n",
       "      <td>3</td>\n",
       "      <td>Middle</td>\n",
       "      <td>Male</td>\n",
       "      <td>Own</td>\n",
       "      <td>Married</td>\n",
       "      <td>Close</td>\n",
       "      <td>85600</td>\n",
       "      <td>1</td>\n",
       "      <td>18</td>\n",
       "      <td>2436</td>\n",
       "      <td>71046.259183</td>\n",
       "      <td>72242.022514</td>\n",
       "    </tr>\n",
       "    <tr>\n",
       "      <td>4</td>\n",
       "      <td>Middle</td>\n",
       "      <td>Female</td>\n",
       "      <td>Own</td>\n",
       "      <td>Single</td>\n",
       "      <td>Close</td>\n",
       "      <td>68400</td>\n",
       "      <td>0</td>\n",
       "      <td>12</td>\n",
       "      <td>1304</td>\n",
       "      <td>19039.760032</td>\n",
       "      <td>18631.074080</td>\n",
       "    </tr>\n",
       "  </tbody>\n",
       "</table>\n",
       "</div>"
      ],
      "text/plain": [
       "      Age  Gender OwnHome  Married Location  Salary  Children  Catalogs  \\\n",
       "0     Old  Female     Own   Single      Far   47500         0         6   \n",
       "1  Middle    Male    Rent   Single    Close   63600         0         6   \n",
       "2   Young  Female    Rent   Single    Close   13500         0        18   \n",
       "3  Middle    Male     Own  Married    Close   85600         1        18   \n",
       "4  Middle  Female     Own   Single    Close   68400         0        12   \n",
       "\n",
       "   AmountSpent  Predictions_ridge  Predictions_lasso  \n",
       "0          755       40169.097293       39950.691621  \n",
       "1         1318       49769.989182       50872.639065  \n",
       "2          296       93623.877286       96905.861137  \n",
       "3         2436       71046.259183       72242.022514  \n",
       "4         1304       19039.760032       18631.074080  "
      ]
     },
     "execution_count": 38,
     "metadata": {},
     "output_type": "execute_result"
    }
   ],
   "source": [
    "df.head()"
   ]
  },
  {
   "cell_type": "code",
   "execution_count": 39,
   "metadata": {
    "ExecuteTime": {
     "end_time": "2019-11-21T04:46:33.597239Z",
     "start_time": "2019-11-21T04:46:33.566849Z"
    }
   },
   "outputs": [
    {
     "data": {
      "text/plain": [
       "65296.812931316876"
      ]
     },
     "execution_count": 39,
     "metadata": {},
     "output_type": "execute_result"
    }
   ],
   "source": [
    "lim.intercept_"
   ]
  },
  {
   "cell_type": "code",
   "execution_count": 40,
   "metadata": {
    "ExecuteTime": {
     "end_time": "2019-11-21T04:46:34.411373Z",
     "start_time": "2019-11-21T04:46:34.373592Z"
    }
   },
   "outputs": [
    {
     "data": {
      "text/html": [
       "<div>\n",
       "<style scoped>\n",
       "    .dataframe tbody tr th:only-of-type {\n",
       "        vertical-align: middle;\n",
       "    }\n",
       "\n",
       "    .dataframe tbody tr th {\n",
       "        vertical-align: top;\n",
       "    }\n",
       "\n",
       "    .dataframe thead th {\n",
       "        text-align: right;\n",
       "    }\n",
       "</style>\n",
       "<table border=\"1\" class=\"dataframe\">\n",
       "  <thead>\n",
       "    <tr style=\"text-align: right;\">\n",
       "      <th></th>\n",
       "      <th>Coefficient</th>\n",
       "    </tr>\n",
       "  </thead>\n",
       "  <tbody>\n",
       "    <tr>\n",
       "      <td>Children</td>\n",
       "      <td>3037.404032</td>\n",
       "    </tr>\n",
       "    <tr>\n",
       "      <td>Catalogs</td>\n",
       "      <td>-531.416486</td>\n",
       "    </tr>\n",
       "    <tr>\n",
       "      <td>AmountSpent</td>\n",
       "      <td>14.486016</td>\n",
       "    </tr>\n",
       "    <tr>\n",
       "      <td>Age_Old</td>\n",
       "      <td>-11699.231864</td>\n",
       "    </tr>\n",
       "    <tr>\n",
       "      <td>Age_Young</td>\n",
       "      <td>-21187.226845</td>\n",
       "    </tr>\n",
       "    <tr>\n",
       "      <td>Gender_Male</td>\n",
       "      <td>5907.264530</td>\n",
       "    </tr>\n",
       "    <tr>\n",
       "      <td>OwnHome_Rent</td>\n",
       "      <td>-5371.428470</td>\n",
       "    </tr>\n",
       "    <tr>\n",
       "      <td>Married_Single</td>\n",
       "      <td>-22882.163798</td>\n",
       "    </tr>\n",
       "    <tr>\n",
       "      <td>Location_Far</td>\n",
       "      <td>-7530.551748</td>\n",
       "    </tr>\n",
       "  </tbody>\n",
       "</table>\n",
       "</div>"
      ],
      "text/plain": [
       "                 Coefficient\n",
       "Children         3037.404032\n",
       "Catalogs         -531.416486\n",
       "AmountSpent        14.486016\n",
       "Age_Old        -11699.231864\n",
       "Age_Young      -21187.226845\n",
       "Gender_Male      5907.264530\n",
       "OwnHome_Rent    -5371.428470\n",
       "Married_Single -22882.163798\n",
       "Location_Far    -7530.551748"
      ]
     },
     "execution_count": 40,
     "metadata": {},
     "output_type": "execute_result"
    }
   ],
   "source": [
    "pd.DataFrame(index=X_train.columns, data=lim.coef_, columns=['Coefficient'])"
   ]
  },
  {
   "cell_type": "code",
   "execution_count": 41,
   "metadata": {
    "ExecuteTime": {
     "end_time": "2019-11-21T04:46:35.312867Z",
     "start_time": "2019-11-21T04:46:35.281605Z"
    }
   },
   "outputs": [
    {
     "name": "stdout",
     "output_type": "stream",
     "text": [
      "MAE: 10077.339674848388\n",
      "MSE: 199558250.30508715\n",
      "RMSE: 14126.508779775955\n",
      "R2 score:  0.7580646174079302\n"
     ]
    }
   ],
   "source": [
    "from sklearn import metrics\n",
    "print('MAE:', metrics.mean_absolute_error(y_test, predictions))\n",
    "print('MSE:', metrics.mean_squared_error(y_test, predictions))\n",
    "print('RMSE:', np.sqrt(metrics.mean_squared_error(y_test, predictions)))\n",
    "print('R2 score: ',metrics.r2_score(y_test, predictions))"
   ]
  },
  {
   "cell_type": "markdown",
   "metadata": {},
   "source": [
    "## Gradient BoostingREGRESSOR"
   ]
  },
  {
   "cell_type": "code",
   "execution_count": 42,
   "metadata": {
    "ExecuteTime": {
     "end_time": "2019-11-21T04:46:36.883822Z",
     "start_time": "2019-11-21T04:46:36.852574Z"
    }
   },
   "outputs": [],
   "source": [
    "from sklearn import ensemble"
   ]
  },
  {
   "cell_type": "code",
   "execution_count": 43,
   "metadata": {
    "ExecuteTime": {
     "end_time": "2019-11-21T04:46:38.465149Z",
     "start_time": "2019-11-21T04:46:37.830587Z"
    }
   },
   "outputs": [
    {
     "data": {
      "text/plain": [
       "GradientBoostingRegressor(alpha=0.9, criterion='friedman_mse', init=None,\n",
       "                          learning_rate=0.01, loss='ls', max_depth=4,\n",
       "                          max_features=None, max_leaf_nodes=None,\n",
       "                          min_impurity_decrease=0.0, min_impurity_split=None,\n",
       "                          min_samples_leaf=1, min_samples_split=2,\n",
       "                          min_weight_fraction_leaf=0.0, n_estimators=500,\n",
       "                          n_iter_no_change=None, presort='auto',\n",
       "                          random_state=None, subsample=1.0, tol=0.0001,\n",
       "                          validation_fraction=0.1, verbose=0, warm_start=False)"
      ]
     },
     "execution_count": 43,
     "metadata": {},
     "output_type": "execute_result"
    }
   ],
   "source": [
    "params = {'n_estimators': 500, 'max_depth': 4, 'min_samples_split': 2,\n",
    "          'learning_rate': 0.01, 'loss': 'ls'}\n",
    "model = ensemble.GradientBoostingRegressor(**params)\n",
    "\n",
    "model.fit(X_train, y_train)"
   ]
  },
  {
   "cell_type": "code",
   "execution_count": 52,
   "metadata": {
    "ExecuteTime": {
     "end_time": "2019-11-21T04:52:47.815089Z",
     "start_time": "2019-11-21T04:52:47.736956Z"
    }
   },
   "outputs": [
    {
     "name": "stdout",
     "output_type": "stream",
     "text": [
      "R2 square:  0.9076724906847726\n",
      "Mean squared error: 182960466.44\n",
      "Test Variance score: 0.78\n",
      "RMSE: 14126.51\n"
     ]
    }
   ],
   "source": [
    "from sklearn.metrics import mean_squared_error, r2_score\n",
    "model_score = model.score(X_train,y_train)\n",
    "\n",
    "print('R2 square: ',model_score)\n",
    "y_predicted = model.predict(X_test)\n",
    "\n",
    "print(\"Mean squared error: %.2f\"% mean_squared_error(y_test, y_predicted))\n",
    "\n",
    "print('Test Variance score: %.2f' % r2_score(y_test, y_predicted))\n",
    "\n",
    "print('RMSE: %.2f'%np.sqrt(metrics.mean_squared_error(y_test, predictions)))\n",
    "\n"
   ]
  },
  {
   "cell_type": "code",
   "execution_count": 45,
   "metadata": {
    "ExecuteTime": {
     "end_time": "2019-11-21T04:46:40.696555Z",
     "start_time": "2019-11-21T04:46:40.165125Z"
    }
   },
   "outputs": [
    {
     "data": {
      "text/plain": [
       "<matplotlib.collections.PathCollection at 0x26f4d4d7d48>"
      ]
     },
     "execution_count": 45,
     "metadata": {},
     "output_type": "execute_result"
    },
    {
     "data": {
      "image/png": "[encoded data removed]",
      "text/plain": [
       "<Figure size 432x288 with 1 Axes>"
      ]
     },
     "metadata": {},
     "output_type": "display_data"
    }
   ],
   "source": [
    "plt.scatter(y_test,y_predicted)"
   ]
  },
  {
   "cell_type": "code",
   "execution_count": 46,
   "metadata": {
    "ExecuteTime": {
     "end_time": "2019-11-21T04:46:41.992556Z",
     "start_time": "2019-11-21T04:46:41.181837Z"
    }
   },
   "outputs": [
    {
     "data": {
      "text/plain": [
       "<matplotlib.axes._subplots.AxesSubplot at 0x26f4d50c288>"
      ]
     },
     "execution_count": 46,
     "metadata": {},
     "output_type": "execute_result"
    },
    {
     "data": {
      "image/png": "[encoded data removed]",
      "text/plain": [
       "<Figure size 432x288 with 1 Axes>"
      ]
     },
     "metadata": {},
     "output_type": "display_data"
    }
   ],
   "source": [
    "sns.set_style(style='whitegrid')\n",
    "sns.distplot((y_test-y_predicted),bins=50)"
   ]
  },
  {
   "cell_type": "code",
   "execution_count": 47,
   "metadata": {
    "ExecuteTime": {
     "end_time": "2019-11-21T04:46:42.267204Z",
     "start_time": "2019-11-21T04:46:42.235955Z"
    }
   },
   "outputs": [
    {
     "data": {
      "text/plain": [
       "array([ 40479.59209541,  48367.40692359,  96299.00108453,  75893.57284427,\n",
       "        15758.2222027 ,  18623.76458553,  69555.91380563,  16905.47074607,\n",
       "        77788.6919512 ,  17360.36556741,  14212.34906341,  90697.51427884,\n",
       "        77009.85934745,  74231.08964728,  19560.71480558,  32125.6069231 ,\n",
       "        48036.87159246,  60630.3795481 ,  64224.98013106,  90752.21622422,\n",
       "        92950.68987221,  82790.20339339, 114095.14682317,  47396.93258528,\n",
       "        32370.13700515,  19997.1214096 ,  88184.28367907,  56098.84273204,\n",
       "        42452.43134945, 102810.56939954,  45568.27137994,  75147.44523187,\n",
       "        66260.34233371,  95929.03688558,  77003.58808939,  52755.21234392,\n",
       "        39020.54877953,  89749.24227118,  28392.77705646,  17471.86256614,\n",
       "        17301.5647121 ,  78670.20530811,  77652.35615603,  52646.74350997,\n",
       "        83186.08880309,  15753.36393588,  56569.18759999,  82088.03564103,\n",
       "        17301.5647121 ,  51152.39011239,  26316.10031686,  48376.01828311,\n",
       "        73244.32831724,  60332.43097662,  59513.72302711,  84708.7319843 ,\n",
       "        22088.04200481,  63329.12488402,  15111.48337398,  18929.46074308,\n",
       "        70451.07446048,  19811.20246367,  40569.99286665,  49759.31798273,\n",
       "        38308.49320543,  52298.6684363 ,  19856.28846617,  79905.00223438,\n",
       "        54770.41914834,  15758.2222027 ,  14623.48318504,  35263.35771706,\n",
       "        79941.65878623,  36809.92917276,  88767.12459234,  21607.07740171,\n",
       "        42929.15122375,  89621.65816283,  36970.33204475,  40750.46966566,\n",
       "        49811.82765462,  45463.11682024,  92479.73621044,  57731.21184205,\n",
       "        13734.7170378 ,  75205.12040538,  86808.9772386 ,  56541.41767329,\n",
       "        16195.77090701,  89761.29935789,  42404.03755228,  87366.87734014,\n",
       "        47783.46459079,  75839.20716782,  37630.43175521,  33522.12061445,\n",
       "        81018.83472434,  75904.0086435 ,  16929.76446841,  88219.12761323,\n",
       "        84712.9671043 ,  87108.21764114,  42279.73359791,  40046.22448436,\n",
       "        93178.62895334,  45733.32375266,  66490.34168568,  44104.95245175,\n",
       "        57770.58135475,  64913.28238434,  41709.00769258,  54001.84559466,\n",
       "        74442.05938265,  62814.71243684,  23187.03366086,  79261.16957693,\n",
       "        67617.42109394,  17101.24026066,  88484.35647522,  45704.94143392,\n",
       "        21270.66883844,  45880.71801299,  17540.45934721,  83955.79814339,\n",
       "        17590.56656638,  38226.6171767 ,  35632.58514279,  41702.19941754,\n",
       "        52233.5265883 ,  72760.0177246 ,  38238.99491303,  62543.37982864,\n",
       "        78745.79864182,  87092.60979877,  91972.33963911,  82830.16167772,\n",
       "        45020.34980584,  27259.97225677,  78250.53994442,  78362.69627426,\n",
       "        83234.92625389,  84170.5095261 ,  37914.81395839,  70299.80814653,\n",
       "        49835.0943473 ,  49047.43090838,  27795.140741  ,  49807.2703966 ,\n",
       "        15896.19356815,  22353.01649821,  51148.05973603,  60389.27640413,\n",
       "        53929.04056856,  33109.01672335,  17233.9158491 ,  63480.43301631,\n",
       "        73126.27443509,  47150.81819497,  15111.48337398,  51002.38118208,\n",
       "        88098.67873394,  67181.32507541,  92915.84031607,  42717.17043623,\n",
       "        55560.84850209, 102226.5184976 ,  34597.94328827,  44431.85016164,\n",
       "       110576.20078616,  55048.5155346 ,  17055.80262283,  77652.35615603,\n",
       "        74181.03302038,  49881.95541059,  23084.30498651,  65575.87984932,\n",
       "        75039.73095004,  31931.46817929,  22973.12552925,  78314.90743223,\n",
       "        71016.59223689,  33713.77826873,  87559.1928083 ,  79030.14576609,\n",
       "        45239.86645103,  24956.57541282,  21138.09649354, 109482.64051865,\n",
       "        45816.89428067,  88165.59033954,  82072.4627332 ,  86505.61679594,\n",
       "        96349.76835987,  82227.62656595, 105780.35739823,  47165.16902459,\n",
       "        97644.53598345,  59976.92712684,  76722.99937778,  58062.29168788,\n",
       "        49794.57301994,  41351.56638822,  73388.28020836,  26316.10031686,\n",
       "        20552.29591728,  24908.76906047,  46989.87234666,  40640.33773213,\n",
       "        75692.09898471,  52128.18836529,  80572.17342557,  18209.4672094 ,\n",
       "        27795.140741  ,  47439.42404555, 105896.09785559,  58438.32722261,\n",
       "        50197.8500744 ,  15787.97058644,  58062.29168788,  17324.67298499,\n",
       "        18666.93507528,  95019.15758846,  28188.89344329,  96930.73708797,\n",
       "        57958.34580462,  28392.77705646,  63199.44941192,  84971.34619223,\n",
       "        19189.91298553, 109410.66388302,  77618.991557  ,  82109.39413985,\n",
       "        48678.83619468,  49316.50797053,  41338.82024313,  52443.3605406 ,\n",
       "        16015.63195325,  85307.6555608 , 100170.76020567,  68483.93260815,\n",
       "        74353.96826095,  92560.08863917,  64654.17532089,  33999.40618584,\n",
       "        88400.74322318,  60213.10396159,  71088.05346039,  17139.31045787,\n",
       "        50811.44258502,  17687.59610854,  89992.82701622,  51467.21453011,\n",
       "        74221.44323701,  77885.56114383,  16501.26887963,  21950.64640963,\n",
       "        58849.0803061 ,  56569.18759999,  36439.07163399,  60512.14351781,\n",
       "        69365.31948413,  73388.28020836,  53899.7028192 ,  47198.27552985,\n",
       "        88712.29361175,  40096.7270639 ,  60213.10396159,  42585.1561251 ,\n",
       "        81387.34727903,  19798.5241238 ,  73938.83085436,  63056.27137839,\n",
       "        70811.48983893,  42717.17043623,  72748.50827848,  26670.06458915,\n",
       "        78216.57152652,  52162.95194288,  14991.60126598,  61024.59322963,\n",
       "        84564.90996248,  48542.68106059,  32045.96049751,  17909.01036617,\n",
       "        56858.9108609 ,  88540.80850445,  14205.97988318,  81918.10353806,\n",
       "        46725.47540482,  82727.72419704,  75839.20716782,  46015.77124939,\n",
       "        67598.10496373,  55336.90564881,  42241.78478603,  56028.92879754,\n",
       "        55276.98867699,  59203.85131624,  40940.21570664,  93030.89955697])"
      ]
     },
     "execution_count": 47,
     "metadata": {},
     "output_type": "execute_result"
    }
   ],
   "source": [
    "y_predicted"
   ]
  },
  {
   "cell_type": "code",
   "execution_count": 48,
   "metadata": {
    "ExecuteTime": {
     "end_time": "2019-11-21T04:46:43.254533Z",
     "start_time": "2019-11-21T04:46:43.223281Z"
    }
   },
   "outputs": [],
   "source": [
    "df_predict=pd.DataFrame(y_predicted, columns=['Prediction Result'])"
   ]
  },
  {
   "cell_type": "code",
   "execution_count": 49,
   "metadata": {
    "ExecuteTime": {
     "end_time": "2019-11-21T04:46:44.126056Z",
     "start_time": "2019-11-21T04:46:44.094794Z"
    }
   },
   "outputs": [
    {
     "data": {
      "text/html": [
       "<div>\n",
       "<style scoped>\n",
       "    .dataframe tbody tr th:only-of-type {\n",
       "        vertical-align: middle;\n",
       "    }\n",
       "\n",
       "    .dataframe tbody tr th {\n",
       "        vertical-align: top;\n",
       "    }\n",
       "\n",
       "    .dataframe thead th {\n",
       "        text-align: right;\n",
       "    }\n",
       "</style>\n",
       "<table border=\"1\" class=\"dataframe\">\n",
       "  <thead>\n",
       "    <tr style=\"text-align: right;\">\n",
       "      <th></th>\n",
       "      <th>Prediction Result</th>\n",
       "    </tr>\n",
       "  </thead>\n",
       "  <tbody>\n",
       "    <tr>\n",
       "      <td>0</td>\n",
       "      <td>40479.592095</td>\n",
       "    </tr>\n",
       "    <tr>\n",
       "      <td>1</td>\n",
       "      <td>48367.406924</td>\n",
       "    </tr>\n",
       "    <tr>\n",
       "      <td>2</td>\n",
       "      <td>96299.001085</td>\n",
       "    </tr>\n",
       "    <tr>\n",
       "      <td>3</td>\n",
       "      <td>75893.572844</td>\n",
       "    </tr>\n",
       "    <tr>\n",
       "      <td>4</td>\n",
       "      <td>15758.222203</td>\n",
       "    </tr>\n",
       "  </tbody>\n",
       "</table>\n",
       "</div>"
      ],
      "text/plain": [
       "   Prediction Result\n",
       "0       40479.592095\n",
       "1       48367.406924\n",
       "2       96299.001085\n",
       "3       75893.572844\n",
       "4       15758.222203"
      ]
     },
     "execution_count": 49,
     "metadata": {},
     "output_type": "execute_result"
    }
   ],
   "source": [
    "df_predict.head()"
   ]
  },
  {
   "cell_type": "code",
   "execution_count": 116,
   "metadata": {
    "ExecuteTime": {
     "end_time": "2019-11-21T07:49:27.138396Z",
     "start_time": "2019-11-21T07:49:27.060266Z"
    }
   },
   "outputs": [],
   "source": [
    "import pickle\n",
    "\n",
    "pickle.dump(rfc, open('project_modeling_1', 'wb'))"
   ]
  },
  {
   "cell_type": "code",
   "execution_count": 117,
   "metadata": {
    "ExecuteTime": {
     "end_time": "2019-11-21T07:49:27.971787Z",
     "start_time": "2019-11-21T07:49:27.909145Z"
    }
   },
   "outputs": [],
   "source": [
    "\n",
    "loadModel = pickle.load(open('project_modeling_1', 'rb'))"
   ]
  },
  {
   "cell_type": "code",
   "execution_count": 118,
   "metadata": {
    "ExecuteTime": {
     "end_time": "2019-11-21T07:49:28.551265Z",
     "start_time": "2019-11-21T07:49:28.535640Z"
    }
   },
   "outputs": [
    {
     "name": "stdout",
     "output_type": "stream",
     "text": [
      "RandomForestRegressor(bootstrap=True, criterion='mse', max_depth=None,\n",
      "                      max_features='auto', max_leaf_nodes=None,\n",
      "                      min_impurity_decrease=0.0, min_impurity_split=None,\n",
      "                      min_samples_leaf=1, min_samples_split=2,\n",
      "                      min_weight_fraction_leaf=0.0, n_estimators=100,\n",
      "                      n_jobs=None, oob_score=False, random_state=None,\n",
      "                      verbose=0, warm_start=False)\n",
      "GradientBoostingRegressor(alpha=0.9, criterion='friedman_mse', init=None, learning_rate=0.01, loss='ls', max_depth=4, max_features=None, max_leaf_nodes=None, min_impurity_decrease=0.0, min_impurity_split=None, min_samples_leaf=1, min_samples_split=2, min_weight_fraction_leaf=0.0, n_estimators=500, n_iter_no_change=None, presort='auto', random_state=None, subsample=1.0, tol=0.0001, validation_fraction=0.1, verbose=0, warm_start=False) \n"
     ]
    }
   ],
   "source": [
    "print(str(loadModel))\n",
    "\n",
    "print(\"GradientBoostingRegressor(alpha=0.9, criterion='friedman_mse', init=None, learning_rate=0.01, loss='ls', max_depth=4, max_features=None, max_leaf_nodes=None, min_impurity_decrease=0.0, min_impurity_split=None, min_samples_leaf=1, min_samples_split=2, min_weight_fraction_leaf=0.0, n_estimators=500, n_iter_no_change=None, presort='auto', random_state=None, subsample=1.0, tol=0.0001, validation_fraction=0.1, verbose=0, warm_start=False) \")"
   ]
  },
  {
   "cell_type": "code",
   "execution_count": null,
   "metadata": {},
   "outputs": [],
   "source": []
  }
 ],
 "metadata": {
  "kernelspec": {
   "display_name": "Python 3",
   "language": "python",
   "name": "python3"
  },
  "language_info": {
   "codemirror_mode": {
    "name": "ipython",
    "version": 3
   },
   "file_extension": ".py",
   "mimetype": "text/x-python",
   "name": "python",
   "nbconvert_exporter": "python",
   "pygments_lexer": "ipython3",
   "version": "3.7.4"
  }
 },
 "nbformat": 4,
 "nbformat_minor": 2
}
